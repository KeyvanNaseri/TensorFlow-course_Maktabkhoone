{
 "cells": [
  {
   "cell_type": "markdown",
   "id": "996bc0be",
   "metadata": {},
   "source": [
    "### Importing Required Libraries"
   ]
  },
  {
   "cell_type": "code",
   "execution_count": 1,
   "id": "21e1b1af",
   "metadata": {},
   "outputs": [],
   "source": [
    "import tensorflow as tf\n",
    "from tensorflow import keras\n",
    "import numpy as np"
   ]
  },
  {
   "cell_type": "markdown",
   "id": "36734d40",
   "metadata": {},
   "source": [
    "### Importing Data"
   ]
  },
  {
   "cell_type": "code",
   "execution_count": 2,
   "id": "b5470c1e",
   "metadata": {},
   "outputs": [],
   "source": [
    "(x_train, y_train), (x_test, y_test) = keras.datasets.cifar10.load_data()\n",
    "\n",
    "x_train = x_train.reshape(x_train.shape[0],-1);  x_test = x_test.reshape(x_test.shape[0],-1);\n",
    "y_train = y_train.reshape(-1,); y_test = y_test.reshape(-1,);"
   ]
  },
  {
   "cell_type": "markdown",
   "id": "6410a365",
   "metadata": {},
   "source": [
    "### Creating Model"
   ]
  },
  {
   "cell_type": "code",
   "execution_count": 66,
   "id": "73f5f7c1",
   "metadata": {},
   "outputs": [],
   "source": [
    "model = keras.models.Sequential([\n",
    "    keras.layers.Dense(50, activation = \"relu\"),\n",
    "    keras.layers.Dense(50, activation = \"relu\"),\n",
    "    keras.layers.Dense(50, activation = \"relu\"),\n",
    "    keras.layers.Dense(10,  activation = \"softmax\")\n",
    "])\n",
    "\n",
    "class F_Score(tf.keras.metrics.Metric):\n",
    "\n",
    "    def __init__(self, beta, name='F_score', **kwargs):\n",
    "        \n",
    "        super(F_Score, self).__init__(name=name, **kwargs)\n",
    "        self.Beta = beta\n",
    "        self.TP = self.add_weight(name='tp', initializer='zeros')\n",
    "        self.FP = self.add_weight(name='fp', initializer='zeros')\n",
    "        self.FN = self.add_weight(name='fn', initializer='zeros')\n",
    "        self.F_score = self.add_weight(name='fs', initializer='zeros')\n",
    "\n",
    "    def update_state(self, y_true, y_pred, sample_weight = None):\n",
    "        \n",
    "        confusion_matrix = tf.math.confusion_matrix(y_true, tf.argmax(y_pred,axis=1))\n",
    "\n",
    "        FP = tf.math.reduce_sum(confusion_matrix,axis=0) - tf.experimental.numpy.diag(confusion_matrix)  \n",
    "        FP = tf.math.reduce_sum(FP)\n",
    "\n",
    "        FN = tf.math.reduce_sum(confusion_matrix,axis=1) - tf.experimental.numpy.diag(confusion_matrix)  \n",
    "        FN = tf.math.reduce_sum(FN)\n",
    "\n",
    "        TP = tf.experimental.numpy.diag(confusion_matrix)\n",
    "        TP = tf.math.reduce_sum(TP)\n",
    "        \n",
    "        self.TP.assign_add(tf.cast(TP,tf.float32))\n",
    "        self.FN.assign_add(tf.cast(FN,tf.float32))\n",
    "        self.FP.assign_add(tf.cast(FP,tf.float32))\n",
    "        self.F_score.assign((1 + self.Beta**2)*self.TP/((1 + self.Beta**2)*self.TP + self.FP + (self.Beta**2)*self.FN))\n",
    "        \n",
    "    def result(self):\n",
    "        return self.F_score"
   ]
  },
  {
   "cell_type": "code",
   "execution_count": 67,
   "id": "2f71d7c2",
   "metadata": {},
   "outputs": [],
   "source": [
    "model.compile(loss = keras.losses.SparseCategoricalCrossentropy(),\n",
    "              optimizer = \"Adam\",\n",
    "              metrics = [F_Score(beta = 1)])"
   ]
  },
  {
   "cell_type": "code",
   "execution_count": 68,
   "id": "860ae36d",
   "metadata": {},
   "outputs": [
    {
     "name": "stdout",
     "output_type": "stream",
     "text": [
      "Epoch 1/3\n",
      "98/98 - 3s - loss: 17.6493 - F_score: 0.1589 - val_loss: 4.3395 - val_F_score: 0.1951 - 3s/epoch - 26ms/step\n",
      "Epoch 2/3\n",
      "98/98 - 2s - loss: 3.7982 - F_score: 0.2026 - val_loss: 4.0828 - val_F_score: 0.1973 - 2s/epoch - 17ms/step\n",
      "Epoch 3/3\n",
      "98/98 - 2s - loss: 3.1650 - F_score: 0.2167 - val_loss: 2.7427 - val_F_score: 0.2265 - 2s/epoch - 16ms/step\n"
     ]
    },
    {
     "data": {
      "text/plain": [
       "<keras.callbacks.History at 0x16ea1fc3280>"
      ]
     },
     "execution_count": 68,
     "metadata": {},
     "output_type": "execute_result"
    }
   ],
   "source": [
    "model.fit(x_train, y_train, epochs = 3, validation_data = (x_test, y_test), verbose = 2, batch_size = 512)"
   ]
  }
 ],
 "metadata": {
  "kernelspec": {
   "display_name": "Python 3 (ipykernel)",
   "language": "python",
   "name": "python3"
  },
  "language_info": {
   "codemirror_mode": {
    "name": "ipython",
    "version": 3
   },
   "file_extension": ".py",
   "mimetype": "text/x-python",
   "name": "python",
   "nbconvert_exporter": "python",
   "pygments_lexer": "ipython3",
   "version": "3.9.16"
  }
 },
 "nbformat": 4,
 "nbformat_minor": 5
}
