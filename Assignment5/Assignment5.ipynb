{
 "cells": [
  {
   "cell_type": "markdown",
   "id": "7e5c3a9b",
   "metadata": {},
   "source": [
    "### Importing Required Libraries"
   ]
  },
  {
   "cell_type": "code",
   "execution_count": 33,
   "id": "ab8c0413",
   "metadata": {},
   "outputs": [],
   "source": [
    "import tensorflow as tf\n",
    "from tensorflow import keras\n",
    "\n",
    "import numpy as np\n",
    "import pandas as pd\n",
    "import matplotlib.pyplot as plt\n",
    "\n",
    "from sklearn.model_selection import train_test_split\n",
    "from sklearn.preprocessing import StandardScaler\n",
    "from sklearn.preprocessing import MinMaxScaler\n",
    "from sklearn.preprocessing import LabelEncoder"
   ]
  },
  {
   "cell_type": "markdown",
   "id": "c6a67cc6",
   "metadata": {},
   "source": [
    "### Reading Data from Excel"
   ]
  },
  {
   "cell_type": "code",
   "execution_count": 34,
   "id": "c6736bed",
   "metadata": {},
   "outputs": [],
   "source": [
    "data = pd.read_csv('CarPrice_Assignment.csv')\n",
    "data = data.set_index('car_ID')"
   ]
  },
  {
   "cell_type": "code",
   "execution_count": 107,
   "id": "2b577ba0",
   "metadata": {},
   "outputs": [],
   "source": [
    "encoding = LabelEncoder()\n",
    "\n",
    "data[\"fueltype\"] = encoding.fit_transform(data[\"fueltype\"])\n",
    "data[\"aspiration\"] = encoding.fit_transform(data[\"aspiration\"])\n",
    "data[\"doornumber\"] = encoding.fit_transform(data[\"doornumber\"])\n",
    "data[\"carbody\"] = encoding.fit_transform(data[\"carbody\"])\n",
    "data[\"drivewheel\"] = encoding.fit_transform(data[\"drivewheel\"])\n",
    "data[\"enginetype\"] = encoding.fit_transform(data[\"enginetype\"])\n",
    "data[\"cylindernumber\"] = encoding.fit_transform(data[\"cylindernumber\"])\n",
    "data[\"enginelocation\"] = encoding.fit_transform(data[\"enginelocation\"])\n",
    "data[\"fuelsystem\"] = encoding.fit_transform(data[\"fuelsystem\"])"
   ]
  },
  {
   "cell_type": "markdown",
   "id": "25ddbc79",
   "metadata": {},
   "source": [
    "### Preprocessing Data"
   ]
  },
  {
   "cell_type": "code",
   "execution_count": 143,
   "id": "ac5a9d74",
   "metadata": {},
   "outputs": [],
   "source": [
    "# Converting to numpy\n",
    "X = data.iloc[:,2:24].to_numpy(copy=True)\n",
    "Y = data['price'].to_numpy(copy=True)\n",
    "\n",
    "# Train-Test Split\n",
    "X_train, X_test, y_train, y_test = train_test_split(X,Y,test_size=0.2,random_state=42)\n",
    "\n",
    "# Normalizing\n",
    "sc = StandardScaler(); minmax = MinMaxScaler()\n",
    "X_train = sc.fit_transform(X_train); X_test = sc.transform(X_test)\n",
    "y_train = minmax.fit_transform(y_train.reshape(-1,1)); y_test = minmax.transform(y_test.reshape(-1,1))\n",
    "X_train = X_train.astype('float32'); X_test = X_test.astype('float32')\n",
    "y_train = y_train.astype('float32'); y_test = y_test.astype('float32')"
   ]
  },
  {
   "cell_type": "code",
   "execution_count": 144,
   "id": "ca2fd7be",
   "metadata": {},
   "outputs": [],
   "source": [
    "batch_size = 8\n",
    "train_data = tf.data.Dataset.from_tensor_slices((X_train, y_train))\n",
    "train_data = train_data.shuffle(buffer_size=len(y_train)).batch(batch_size)"
   ]
  },
  {
   "cell_type": "markdown",
   "id": "44bea6ee",
   "metadata": {},
   "source": [
    "### Creating Model"
   ]
  },
  {
   "cell_type": "code",
   "execution_count": 131,
   "id": "2f96d94b",
   "metadata": {},
   "outputs": [],
   "source": [
    "ep = 100; # epoch number\n",
    "e_1 = 0.2; e_2 = 0.1\n",
    "l_1 = 0.7; l_2 = 0.9; l_3 = 1 "
   ]
  },
  {
   "cell_type": "code",
   "execution_count": 132,
   "id": "0495017e",
   "metadata": {},
   "outputs": [],
   "source": [
    "model = keras.models.Sequential([\n",
    "    keras.layers.Dense(50, activation = \"relu\"),\n",
    "    keras.layers.Dense(50, activation = \"relu\"),\n",
    "    keras.layers.Dense(50, activation = \"relu\"),\n",
    "    keras.layers.Dense(1,  activation = \"tanh\")\n",
    "])\n",
    "\n",
    "class My_loss(keras.losses.Loss):\n",
    "     \n",
    "    def __init__(self, e1, e2, l1, l2, l3, **kwargs):\n",
    "        self.e1 = e1; self.e2 = e2\n",
    "        self.l1 = l1; self.l2 = l2; self.l3 = l3\n",
    "        super().__init__(**kwargs)\n",
    "    def call(self, y_true, y_pred):\n",
    "        error = tf.abs(y_true - y_pred)\n",
    "        return tf.experimental.numpy.select([error <= self.e2,\n",
    "                                             error < self.e1,\n",
    "                                             error >= self.e1], \n",
    "                                            [self.l3*error, self.l2*error, self.l1*error])\n",
    "    def get_config(self):\n",
    "        parent_config = super().get_config()\n",
    "        return {**parent_config, \"e1\":self.e1, \"e2\":self.e2, \"l1\":self.l1, \"l2\":self.l2, \"l3\":self.l3}"
   ]
  },
  {
   "cell_type": "code",
   "execution_count": 133,
   "id": "3aa11c03",
   "metadata": {},
   "outputs": [],
   "source": [
    "e_1 = 0.2; e_2 = 0.1; l_1 = 0.7; l_2 = 0.9; l_3 = 1 \n",
    "Loss_fn = My_loss(e1=e_1, e2=e_2, l1=l_1, l2=l_2, l3=l_3)"
   ]
  },
  {
   "cell_type": "code",
   "execution_count": 138,
   "id": "e291e71e",
   "metadata": {},
   "outputs": [],
   "source": [
    "Optimizer = tf.keras.optimizers.Adam()\n",
    "Metric = tf.keras.metrics.MeanAbsoluteError()\n",
    "Metric_test = tf.keras.metrics.MeanAbsoluteError()"
   ]
  },
  {
   "cell_type": "code",
   "execution_count": 142,
   "id": "256aea52",
   "metadata": {},
   "outputs": [
    {
     "name": "stdout",
     "output_type": "stream",
     "text": [
      "Training Loss: 0.014580439776182175\n",
      "Validation Loss: 0.043052151799201965\n",
      "Train_Metric_Value: 0.028096787631511688\n",
      "Validation_Metric_Value: 0.045986611396074295 \n",
      "\n",
      "Training Loss: 0.013614709489047527\n",
      "Validation Loss: 0.03989577665925026\n",
      "Train_Metric_Value: 0.013899044133722782\n",
      "Validation_Metric_Value: 0.04284137487411499 \n",
      "\n",
      "Training Loss: 0.016608314588665962\n",
      "Validation Loss: 0.04150553420186043\n",
      "Train_Metric_Value: 0.033851925283670425\n",
      "Validation_Metric_Value: 0.04453856870532036 \n",
      "\n",
      "Training Loss: 0.014383713714778423\n",
      "Validation Loss: 0.041212499141693115\n",
      "Train_Metric_Value: 0.009930362924933434\n",
      "Validation_Metric_Value: 0.04460093006491661 \n",
      "\n",
      "Training Loss: 0.0165505800396204\n",
      "Validation Loss: 0.04056519269943237\n",
      "Train_Metric_Value: 0.022154681384563446\n",
      "Validation_Metric_Value: 0.04378392919898033 \n",
      "\n"
     ]
    }
   ],
   "source": [
    "epochs = 50\n",
    "\n",
    "for epoch in range(epochs):\n",
    "    \n",
    "    loss_train_epoch_sum = tf.constant(0,dtype='float32');\n",
    "    \n",
    "    for batch_i, (x_train, y_train) in enumerate(train_data):\n",
    "        \n",
    "        with tf.GradientTape() as g:\n",
    "            model_out = model(x_train, training=True)  \n",
    "            loss_train_batch = Loss_fn(y_train, model_out)\n",
    "        \n",
    "        loss_train_epoch_sum += loss_train_batch\n",
    "\n",
    "        grads = g.gradient(loss_train_batch, model.trainable_weights)\n",
    "\n",
    "        Optimizer.apply_gradients(zip(grads, model.trainable_weights))\n",
    "        \n",
    "        \n",
    "    model_out_validation = model(X_test, training=False)\n",
    "    loss_test_epoch = Loss_fn(y_test, model_out_validation)\n",
    "    Metric_test.update_state(y_test, model_out_validation)\n",
    "    \n",
    "    loss_train_epoch = loss_train_epoch_sum/len(train_data)\n",
    "    Metric.update_state(y_train, model_out)\n",
    "\n",
    "    if epoch % 10 == 0:\n",
    "        print(\"Training Loss:\", float(loss_train_epoch))\n",
    "        print(\"Validation Loss:\", float(loss_test_epoch))\n",
    "        \n",
    "        Metric_train = Metric.result()\n",
    "        print(\"Train_Metric_Value:\", float(Metric_train))\n",
    "        \n",
    "        Metric_validation = Metric_test.result()\n",
    "        print(\"Validation_Metric_Value:\", float(Metric_validation),'\\n')\n",
    "\n",
    "    Metric.reset_states()\n",
    "    Metric_test.reset_states()"
   ]
  }
 ],
 "metadata": {
  "kernelspec": {
   "display_name": "Python 3 (ipykernel)",
   "language": "python",
   "name": "python3"
  },
  "language_info": {
   "codemirror_mode": {
    "name": "ipython",
    "version": 3
   },
   "file_extension": ".py",
   "mimetype": "text/x-python",
   "name": "python",
   "nbconvert_exporter": "python",
   "pygments_lexer": "ipython3",
   "version": "3.9.16"
  }
 },
 "nbformat": 4,
 "nbformat_minor": 5
}
